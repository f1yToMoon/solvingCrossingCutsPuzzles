{
 "cells": [
  {
   "cell_type": "code",
   "execution_count": 1,
   "metadata": {},
   "outputs": [
    {
     "data": {
      "text/html": [
       "<style>.container { width:100% !important; }</style>"
      ],
      "text/plain": [
       "<IPython.core.display.HTML object>"
      ]
     },
     "metadata": {},
     "output_type": "display_data"
    }
   ],
   "source": [
    "from IPython.display import display, HTML\n",
    "display(HTML(\"<style>.container { width:100% !important; }</style>\"))"
   ]
  },
  {
   "cell_type": "code",
   "execution_count": 2,
   "metadata": {},
   "outputs": [],
   "source": [
    "import random\n",
    "from sys import maxsize as INT_MAX\n",
    "from collections import deque"
   ]
  },
  {
   "cell_type": "code",
   "execution_count": 3,
   "metadata": {},
   "outputs": [],
   "source": [
    "a = 3\n",
    "b = 6\n",
    "n = 3\n",
    "\n",
    "MAXN = 1005\n",
    "vis = [False for i in range(MAXN)]\n",
    "aa = 0\n",
    "bb = 0\n",
    "start_node = 0;\n",
    "all_cycles = [[]]"
   ]
  },
  {
   "cell_type": "code",
   "execution_count": 4,
   "metadata": {},
   "outputs": [],
   "source": [
    "def generate_cuts(num_cuts, a, b):\n",
    "    cuts = []\n",
    "    choise_x = [a, 0]\n",
    "    choise_y = [b, 0]\n",
    "    for i in range(num_cuts):\n",
    "        cut = []\n",
    "        # точка на оси х\n",
    "        ch = random.randint(0, 1)\n",
    "        x = round(random.uniform(0.001, a - 0.001), 3)\n",
    "        y = choise_y[ch]\n",
    "        cut.append([x, y])\n",
    "        \n",
    "        # точка на оси y\n",
    "        ch = random.randint(0, 1)\n",
    "        x = choise_x[ch]\n",
    "        y = round(random.uniform(0.001, b-0.001), 3)\n",
    "        cut.append([x, y])\n",
    "        cuts.append(cut)\n",
    "    return cuts"
   ]
  },
  {
   "cell_type": "code",
   "execution_count": 5,
   "metadata": {},
   "outputs": [],
   "source": [
    "cuts = generate_cuts(n, a, b)"
   ]
  },
  {
   "cell_type": "code",
   "execution_count": 6,
   "metadata": {},
   "outputs": [
    {
     "data": {
      "text/plain": [
       "[[[0.269, 0], [0, 4.293]], [[0.582, 6], [0, 0.399]], [[2.046, 6], [0, 1.97]]]"
      ]
     },
     "execution_count": 6,
     "metadata": {},
     "output_type": "execute_result"
    }
   ],
   "source": [
    "cuts"
   ]
  },
  {
   "cell_type": "code",
   "execution_count": 7,
   "metadata": {},
   "outputs": [],
   "source": [
    "def line_intersection(line1, line2, a, b):\n",
    "    xdiff = (line1[0][0] - line1[1][0], line2[0][0] - line2[1][0])\n",
    "    ydiff = (line1[0][1] - line1[1][1], line2[0][1] - line2[1][1])\n",
    "    \n",
    "    def det(a, b):\n",
    "        return a[0] * b[1] - a[1] * b[0]\n",
    "\n",
    "    div = det(xdiff, ydiff)\n",
    "    if div == 0:\n",
    "        return False\n",
    "    else: \n",
    "        d = (det(*line1), det(*line2))\n",
    "        x = det(d, xdiff) / div\n",
    "        y = det(d, ydiff) / div\n",
    "    if x < 0 or y < 0 or x > a or y > b:\n",
    "        return False\n",
    "    return [x, y]"
   ]
  },
  {
   "cell_type": "code",
   "execution_count": 8,
   "metadata": {},
   "outputs": [],
   "source": [
    "points = [[0, 0],\n",
    "         [0, b],\n",
    "         [a, 0],\n",
    "         [a, b]]\n",
    "\n",
    "lines = [[] for _ in range(len(cuts) + 2)] \n",
    "\n",
    "m = [[], []]\n",
    "intersect = []\n",
    "\n",
    "for i in range(len(cuts)):\n",
    "    points.append(cuts[i][0])\n",
    "    points.append(cuts[i][1])\n",
    "    \n",
    "k = 0    \n",
    "for i in range(len(cuts)):\n",
    "    for j in range(i+1, len(cuts)):\n",
    "        p = line_intersection(cuts[i], cuts[j], a, b)\n",
    "        if p != False:\n",
    "            points.append(p)\n",
    "            intersect.append(p)\n",
    "            k = k + 1\n",
    "            lines[i].append(p)\n",
    "            lines[j].append(p)\n",
    "    lines[i].append(cuts[i][0])\n",
    "    lines[i].append(cuts[i][1])        \n",
    "\n",
    "graph_size = 4 + k + len(cuts)*2\n",
    "graph = [[0 for _ in range(graph_size)] for arr in range(graph_size)]\n",
    "\n",
    "for i in range(len(points)):\n",
    "    if points[i][1] == b:\n",
    "        m[0].append([points[i][0], points[i][1]])\n",
    "    if points[i][1] == 0:\n",
    "        m[1].append([points[i][0], points[i][1]])\n",
    "    if points[i][0] == a:\n",
    "        lines[len(cuts)].append([points[i][0], points[i][1]])\n",
    "    if points[i][0] == 0:\n",
    "        lines[len(cuts) + 1].append([points[i][0], points[i][1]])\n",
    "    \n",
    "for i in range(len(m)):   \n",
    "    sorted(m[i], key=lambda x: x[0])\n",
    "\n",
    "for i in range(len(lines)):\n",
    "    sorted(lines[i], key=lambda x: x[1])\n",
    "    \n",
    "for i in range(len(m)):\n",
    "    for j in range(1, len(m[i])):\n",
    "        graph[points.index(m[i][j - 1])][points.index(m[i][j])] = 1\n",
    "        graph[points.index(m[i][j])][points.index(m[i][j - 1])] = 1  \n",
    "    \n",
    "for i in range(len(lines)):\n",
    "    for j in range(1, len(lines[i])):\n",
    "        graph[points.index(lines[i][j - 1])][points.index(lines[i][j])] = 1\n",
    "        graph[points.index(lines[i][j])][points.index(lines[i][j - 1])] = 1"
   ]
  },
  {
   "cell_type": "code",
   "execution_count": 9,
   "metadata": {},
   "outputs": [
    {
     "data": {
      "text/plain": [
       "(3,\n",
       " [[0.1522115282776494, 1.863839810795729],\n",
       "  [0.12956803473365422, 2.225209765384471],\n",
       "  [0.20525177037203318, 2.374283790126732]])"
      ]
     },
     "execution_count": 9,
     "metadata": {},
     "output_type": "execute_result"
    }
   ],
   "source": [
    "k, intersect"
   ]
  },
  {
   "cell_type": "code",
   "execution_count": 10,
   "metadata": {},
   "outputs": [
    {
     "data": {
      "text/plain": [
       "[[0, 1, 1, 0, 0, 0, 0, 0, 0, 0, 0, 0, 0],\n",
       " [1, 0, 0, 1, 0, 1, 0, 0, 0, 0, 0, 0, 0],\n",
       " [1, 0, 0, 1, 1, 0, 0, 0, 0, 0, 0, 0, 0],\n",
       " [0, 1, 1, 0, 0, 0, 1, 0, 0, 0, 0, 0, 0],\n",
       " [0, 0, 1, 0, 0, 1, 0, 0, 0, 0, 0, 1, 0],\n",
       " [0, 1, 0, 0, 1, 0, 0, 1, 0, 0, 0, 0, 0],\n",
       " [0, 0, 0, 1, 0, 0, 0, 1, 1, 0, 0, 0, 1],\n",
       " [0, 0, 0, 0, 0, 1, 1, 0, 0, 1, 0, 0, 0],\n",
       " [0, 0, 0, 0, 0, 0, 1, 0, 0, 1, 0, 0, 1],\n",
       " [0, 0, 0, 0, 0, 0, 0, 1, 1, 0, 0, 0, 0],\n",
       " [0, 0, 0, 0, 0, 0, 0, 0, 0, 0, 0, 1, 1],\n",
       " [0, 0, 0, 0, 1, 0, 0, 0, 0, 0, 1, 0, 1],\n",
       " [0, 0, 0, 0, 0, 0, 1, 0, 1, 0, 1, 1, 0]]"
      ]
     },
     "execution_count": 10,
     "metadata": {},
     "output_type": "execute_result"
    }
   ],
   "source": [
    "graph"
   ]
  },
  {
   "cell_type": "code",
   "execution_count": 11,
   "metadata": {},
   "outputs": [],
   "source": [
    "graph_as_a_list_of_lists = [[] for i in range(graph_size)]\n",
    "for i in range(graph_size):\n",
    "    for j in range(graph_size):\n",
    "        if graph[i][j] == 1:\n",
    "            graph_as_a_list_of_lists[i].append(j)"
   ]
  },
  {
   "cell_type": "code",
   "execution_count": 12,
   "metadata": {},
   "outputs": [
    {
     "data": {
      "text/plain": [
       "[[1, 2],\n",
       " [0, 3, 5],\n",
       " [0, 3, 4],\n",
       " [1, 2, 6],\n",
       " [2, 5, 11],\n",
       " [1, 4, 7],\n",
       " [3, 7, 8, 12],\n",
       " [5, 6, 9],\n",
       " [6, 9, 12],\n",
       " [7, 8],\n",
       " [11, 12],\n",
       " [4, 10, 12],\n",
       " [6, 8, 10, 11]]"
      ]
     },
     "execution_count": 12,
     "metadata": {},
     "output_type": "execute_result"
    }
   ],
   "source": [
    "graph_as_a_list_of_lists"
   ]
  },
  {
   "cell_type": "code",
   "execution_count": 13,
   "metadata": {},
   "outputs": [],
   "source": [
    "def detect_cycle(node, par):\n",
    "    global aa, bb\n",
    "    vis[node] = True;\n",
    "    for child in graph_as_a_list_of_lists[node]:         \n",
    "        if (vis[child] == False):\n",
    "            if (detect_cycle(child, node)):\n",
    "                return True;\n",
    "        elif (child != par):\n",
    "            aa = child;\n",
    "            bb = node;\n",
    "            return True;\n",
    "    return False;"
   ]
  },
  {
   "cell_type": "code",
   "execution_count": 14,
   "metadata": {},
   "outputs": [],
   "source": [
    "def find_simple_cycle(a, b):\n",
    "    par = [0 for i in range(MAXN)]\n",
    "    q = []\n",
    "    q.append(a);\n",
    "    ok = True;\n",
    "    while(len(q) != 0):\n",
    "        node = q[0];\n",
    "        q.pop(0);\n",
    "        vis[node] = True;\n",
    "        for child in adj[node]:\n",
    "            if (node == a and child == b):\n",
    "                continue;\n",
    "            if (vis[child] == False):\n",
    "                par[child] = node;\n",
    "                if (child == b):\n",
    "                    ok = False;\n",
    "                    break;\n",
    "                q.append(child);\n",
    "                vis[child] = True;"
   ]
  },
  {
   "cell_type": "code",
   "execution_count": 15,
   "metadata": {},
   "outputs": [
    {
     "ename": "IndentationError",
     "evalue": "unexpected indent (<ipython-input-15-1e69f8cb1ed4>, line 2)",
     "output_type": "error",
     "traceback": [
      "\u001b[1;36m  File \u001b[1;32m\"<ipython-input-15-1e69f8cb1ed4>\"\u001b[1;36m, line \u001b[1;32m2\u001b[0m\n\u001b[1;33m    simple_cycle = []\u001b[0m\n\u001b[1;37m    ^\u001b[0m\n\u001b[1;31mIndentationError\u001b[0m\u001b[1;31m:\u001b[0m unexpected indent\n"
     ]
    }
   ],
   "source": [
    "while (detect_cycle(start_node, -1) == True):\n",
    "    simple_cycle = []\n",
    "    for i in range(MAXN):\n",
    "        vis[i] = False\n",
    "    find_simple_cycle(aa, bb);\n",
    "    simple_cycle\n",
    "    all_cycles.append(simple_cycle)\n",
    "    print(aa)"
   ]
  }
 ],
 "metadata": {
  "kernelspec": {
   "display_name": "Python 3",
   "language": "python",
   "name": "python3"
  },
  "language_info": {
   "codemirror_mode": {
    "name": "ipython",
    "version": 3
   },
   "file_extension": ".py",
   "mimetype": "text/x-python",
   "name": "python",
   "nbconvert_exporter": "python",
   "pygments_lexer": "ipython3",
   "version": "3.8.3"
  }
 },
 "nbformat": 4,
 "nbformat_minor": 4
}
