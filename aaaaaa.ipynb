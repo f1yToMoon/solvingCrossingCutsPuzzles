{
 "cells": [
  {
   "cell_type": "code",
   "execution_count": 181,
   "metadata": {},
   "outputs": [
    {
     "data": {
      "text/html": [
       "<style>.container { width:100% !important; }</style>"
      ],
      "text/plain": [
       "<IPython.core.display.HTML object>"
      ]
     },
     "metadata": {},
     "output_type": "display_data"
    }
   ],
   "source": [
    "from IPython.display import display, HTML\n",
    "display(HTML(\"<style>.container { width:100% !important; }</style>\"))"
   ]
  },
  {
   "cell_type": "code",
   "execution_count": 182,
   "metadata": {},
   "outputs": [],
   "source": [
    "import random\n",
    "from sys import maxsize as INT_MAX\n",
    "from collections import deque"
   ]
  },
  {
   "cell_type": "code",
   "execution_count": null,
   "metadata": {},
   "outputs": [],
   "source": [
    "a = 3\n",
    "b = 6\n",
    "n = 3\n",
    "N = 100200"
   ]
  },
  {
   "cell_type": "code",
   "execution_count": 183,
   "metadata": {},
   "outputs": [],
   "source": [
    "def generate_cuts(num_cuts, a, b):\n",
    "    cuts = []\n",
    "    choise_x = [a, 0]\n",
    "    choise_y = [b, 0]\n",
    "    for i in range(num_cuts):\n",
    "        cut = []\n",
    "        # точка на оси х\n",
    "        ch = random.randint(0, 1)\n",
    "        x = round(random.uniform(0.001, a - 0.001), 3)\n",
    "        y = choise_y[ch]\n",
    "        cut.append([x, y])\n",
    "        \n",
    "        # точка на оси y\n",
    "        ch = random.randint(0, 1)\n",
    "        x = choise_x[ch]\n",
    "        y = round(random.uniform(0.001, b-0.001), 3)\n",
    "        cut.append([x, y])\n",
    "        cuts.append(cut)\n",
    "    return cuts"
   ]
  },
  {
   "cell_type": "code",
   "execution_count": 184,
   "metadata": {},
   "outputs": [],
   "source": [
    "cuts = generate_cuts(n, a, b)"
   ]
  },
  {
   "cell_type": "code",
   "execution_count": 185,
   "metadata": {},
   "outputs": [
    {
     "data": {
      "text/plain": [
       "[[[1.055, 6], [3, 0.519]], [[0.608, 0], [3, 2.372]], [[2.651, 6], [0, 0.342]]]"
      ]
     },
     "execution_count": 185,
     "metadata": {},
     "output_type": "execute_result"
    }
   ],
   "source": [
    "cuts\n"
   ]
  },
  {
   "cell_type": "code",
   "execution_count": 186,
   "metadata": {},
   "outputs": [],
   "source": [
    "def line_intersection(line1, line2, a, b):\n",
    "    xdiff = (line1[0][0] - line1[1][0], line2[0][0] - line2[1][0])\n",
    "    ydiff = (line1[0][1] - line1[1][1], line2[0][1] - line2[1][1])\n",
    "    \n",
    "    def det(a, b):\n",
    "        return a[0] * b[1] - a[1] * b[0]\n",
    "\n",
    "    div = det(xdiff, ydiff)\n",
    "    if div == 0:\n",
    "        return False\n",
    "    else: \n",
    "        d = (det(*line1), det(*line2))\n",
    "        x = det(d, xdiff) / div\n",
    "        y = det(d, ydiff) / div\n",
    "    if x < 0 or y < 0 or x > a or y > b:\n",
    "        return False\n",
    "    return [x, y]"
   ]
  },
  {
   "cell_type": "code",
   "execution_count": 187,
   "metadata": {},
   "outputs": [],
   "source": [
    "points = [[0, 0],\n",
    "         [0, b],\n",
    "         [a, 0],\n",
    "         [a, b]]\n",
    "\n",
    "lines = [[] for _ in range(len(cuts) + 2)] \n",
    "\n",
    "m = [[], []]\n",
    "intersect = []\n",
    "\n",
    "for i in range(len(cuts)):\n",
    "    points.append(cuts[i][0])\n",
    "    points.append(cuts[i][1])\n",
    "    \n",
    "k = 0    \n",
    "for i in range(len(cuts)):\n",
    "    for j in range(i+1, len(cuts)):\n",
    "        p = line_intersection(cuts[i], cuts[j], a, b)\n",
    "        if p != False:\n",
    "            points.append(p)\n",
    "            intersect.append(p)\n",
    "            k = k + 1\n",
    "            lines[i].append(p)\n",
    "            lines[j].append(p)\n",
    "    lines[i].append(cuts[i][0])\n",
    "    lines[i].append(cuts[i][1])        \n",
    "\n",
    "graph_size = 4 + k + len(cuts)*2\n",
    "graph = [[0 for _ in range(graph_size)] for arr in range(graph_size)]\n",
    "\n",
    "for i in range(len(points)):\n",
    "    if points[i][1] == b:\n",
    "        m[0].append([points[i][0], points[i][1]])\n",
    "    if points[i][1] == 0:\n",
    "        m[1].append([points[i][0], points[i][1]])\n",
    "    if points[i][0] == a:\n",
    "        lines[len(cuts)].append([points[i][0], points[i][1]])\n",
    "    if points[i][0] == 0:\n",
    "        lines[len(cuts) + 1].append([points[i][0], points[i][1]])\n",
    "    \n",
    "for i in range(len(m)):   \n",
    "    sorted(m[i], key=lambda x: x[0])\n",
    "\n",
    "for i in range(len(lines)):\n",
    "    sorted(lines[i], key=lambda x: x[1])\n",
    "    \n",
    "for i in range(len(m)):\n",
    "    for j in range(1, len(m[i])):\n",
    "        graph[points.index(m[i][j - 1])][points.index(m[i][j])] = 1\n",
    "        graph[points.index(m[i][j])][points.index(m[i][j - 1])] = 1  \n",
    "    \n",
    "for i in range(len(lines)):\n",
    "    for j in range(1, len(lines[i])):\n",
    "        graph[points.index(lines[i][j - 1])][points.index(lines[i][j])] = 1\n",
    "        graph[points.index(lines[i][j])][points.index(lines[i][j - 1])] = 1"
   ]
  },
  {
   "cell_type": "code",
   "execution_count": 188,
   "metadata": {},
   "outputs": [
    {
     "data": {
      "text/plain": [
       "(2,\n",
       " [[2.5136015249751584, 1.8896684018566368],\n",
       "  [1.7428291498695845, 4.061700992064168]])"
      ]
     },
     "execution_count": 188,
     "metadata": {},
     "output_type": "execute_result"
    }
   ],
   "source": [
    "k, intersect"
   ]
  },
  {
   "cell_type": "code",
   "execution_count": 189,
   "metadata": {
    "scrolled": true
   },
   "outputs": [
    {
     "data": {
      "text/plain": [
       "[[0, 1, 1, 0, 0, 0, 0, 0, 0, 0, 0, 0],\n",
       " [1, 0, 0, 1, 0, 0, 0, 0, 0, 1, 0, 0],\n",
       " [1, 0, 0, 1, 0, 0, 1, 0, 0, 0, 0, 0],\n",
       " [0, 1, 1, 0, 1, 1, 0, 0, 0, 0, 0, 0],\n",
       " [0, 0, 0, 1, 0, 1, 0, 0, 1, 0, 0, 1],\n",
       " [0, 0, 0, 1, 1, 0, 0, 1, 0, 0, 0, 0],\n",
       " [0, 0, 1, 0, 0, 0, 0, 1, 0, 0, 1, 0],\n",
       " [0, 0, 0, 0, 0, 1, 1, 0, 0, 0, 0, 0],\n",
       " [0, 0, 0, 0, 1, 0, 0, 0, 0, 1, 0, 1],\n",
       " [0, 1, 0, 0, 0, 0, 0, 0, 1, 0, 0, 0],\n",
       " [0, 0, 0, 0, 0, 0, 1, 0, 0, 0, 0, 1],\n",
       " [0, 0, 0, 0, 1, 0, 0, 0, 1, 0, 1, 0]]"
      ]
     },
     "execution_count": 189,
     "metadata": {},
     "output_type": "execute_result"
    }
   ],
   "source": [
    "graph"
   ]
  },
  {
   "cell_type": "code",
   "execution_count": null,
   "metadata": {},
   "outputs": [],
   "source": [
    "def shortest_cycle(n: int) -> int:\n",
    " \n",
    "    # To store length of the shortest cycle\n",
    "    ans = INT_MAX\n",
    " \n",
    "    # For all vertices\n",
    "    for i in range(n):\n",
    " \n",
    "        # Make distance maximum\n",
    "        dist = [int(1e9)] * n\n",
    " \n",
    "        # Take a imaginary parent\n",
    "        par = [-1] * n\n",
    " \n",
    "        # Distance of source to source is 0\n",
    "        dist[i] = 0\n",
    "        q = deque()\n",
    " \n",
    "        # Push the source element\n",
    "        q.append(i)\n",
    " \n",
    "        # Continue until queue is not empty\n",
    "        while q:\n",
    " \n",
    "            # Take the first element\n",
    "            x = q[0]\n",
    "            q.popleft()\n",
    " \n",
    "            # Traverse for all it's childs\n",
    "            for child in gr[x]:\n",
    " \n",
    "                # If it is not visited yet\n",
    "                if dist[child] == int(1e9):\n",
    " \n",
    "                    # Increase distance by 1\n",
    "                    dist[child] = 1 + dist[x]\n",
    " \n",
    "                    # Change parent\n",
    "                    par[child] = x\n",
    " \n",
    "                    # Push into the queue\n",
    "                    q.append(child)\n",
    " \n",
    "                # If it is already visited\n",
    "                elif par[x] != child and par[child] != x:\n",
    "                    ans = min(ans, dist[x] +\n",
    "                                   dist[child] + 1)\n",
    " \n",
    "    # If graph contains no cycle\n",
    "    if ans == INT_MAX:\n",
    "        return -1\n",
    " \n",
    "    # If graph contains cycle\n",
    "    else:\n",
    "        return ans"
   ]
  }
 ],
 "metadata": {
  "kernelspec": {
   "display_name": "Python 3",
   "language": "python",
   "name": "python3"
  },
  "language_info": {
   "codemirror_mode": {
    "name": "ipython",
    "version": 3
   },
   "file_extension": ".py",
   "mimetype": "text/x-python",
   "name": "python",
   "nbconvert_exporter": "python",
   "pygments_lexer": "ipython3",
   "version": "3.8.3"
  }
 },
 "nbformat": 4,
 "nbformat_minor": 2
}
